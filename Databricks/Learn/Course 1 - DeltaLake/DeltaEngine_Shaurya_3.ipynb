{
 "cells": [
  {
   "cell_type": "markdown",
   "metadata": {
    "application/vnd.databricks.v1+cell": {
     "cellMetadata": {},
     "inputWidgets": {},
     "nuid": "2b1b55f7-60a5-4b84-9ece-42d3f4c09cbf",
     "showTitle": false,
     "tableResultSettingsMap": {},
     "title": ""
    }
   },
   "source": [
    "Optimizing with Delta Engine with Databricks"
   ]
  },
  {
   "cell_type": "markdown",
   "metadata": {
    "application/vnd.databricks.v1+cell": {
     "cellMetadata": {},
     "inputWidgets": {},
     "nuid": "40173084-e13f-4253-a140-1c6a359bb6e9",
     "showTitle": false,
     "tableResultSettingsMap": {},
     "title": ""
    }
   },
   "source": [
    "Delta Engine:\n",
    "1. Delta Engine is a high performance query engine built into databricks runtime helping to process and query \n",
    "2. data faster than the spark engine\n",
    "3. Great engine for SQL workloads\n",
    "4. Can work with any data format including delta\n",
    "\n",
    "Delta Engine components:\n",
    "1. Query optimizer\n",
    "  - Data Skipping\n",
    "  - Bin-packing and Z-Order optimizations\n",
    "  - Vacuum\n",
    "  - Auto optimization\n",
    "  - Data transformation optimization\n",
    "  - Join and Low shuffle merge optimization\n",
    "2. Photon execution engine\n",
    "3. Delta cache\n"
   ]
  },
  {
   "cell_type": "markdown",
   "metadata": {
    "application/vnd.databricks.v1+cell": {
     "cellMetadata": {},
     "inputWidgets": {},
     "nuid": "df75ff5f-5915-4adf-99db-00a29b93e71e",
     "showTitle": false,
     "tableResultSettingsMap": {},
     "title": ""
    }
   },
   "source": [
    "Data Skipping and Statistics\n",
    "\n",
    "Transaction log entry stores min and max values for each column of the transaction (3 records below)\n",
    "\n",
    "Select * from employee\n",
    "where salary between 16000 and 17000\n",
    "\n",
    "This will check each transaction to see which has min and max salary satisfying this criteria. Id matches then all records in that trnsaction files are queried.\n",
    "Rest of all files are ignored\n",
    "\n",
    "{\n",
    "\t\"add\": {\n",
    "\t\t\"path\": \"VendorId=3/part-00000-f8957112-b65b-43f0-8713-bd298ae6cf9a.c000.snappy.parquet\",\n",
    "\t\t\"partitionValues\": {\n",
    "\t\t\t\"VendorId\": \"3\"\n",
    "\t\t},\n",
    "\t\t\"size\": 5232,\n",
    "\t\t\"modificationTime\": 1715496718000,\n",
    "\t\t\"dataChange\": true,\n",
    "\t\t\"stats\": \"{\\\"numRecords\\\":3,\n",
    "    \n",
    "    \\\"minValues\\\":{\\\"RideId\\\":9999997,\\\"PickupTime\\\":\\\"2022-03-01T00:00:00.000Z\\\",\\\"DropTime\\\":\\\"2022-03-01T00:10:56.000Z\\\",\\\"PickupLocationId\\\":141,\\\"DropLocationId\\\":68,\\\"CabNumber\\\":\\\"T489328C\\\",\\\"DriverLicenseNumber\\\":\\\"5067782\\\",\\\"PassengerCount\\\":0,\\\"TripDistance\\\":1.1,\\\"RatecodeId\\\":1,\\\"PaymentType\\\":1,\\\"TotalAmount\\\":9.8,\\\"FareAmount\\\":8.5,\\\"Extra\\\":0.5,\\\"MtaTax\\\":0.5,\\\"TripAmount\\\":0.0,\\\"TollsAmount\\\":0.0,\\\"ImprovementSurcharge\\\":0.3,\\\"PickUpYear\\\":2022,\\\"PickUpMonth\\\":3,\\\"PickUpDay\\\":1},\n",
    "    \n",
    "    \\\"maxValues\\\":{\\\"RideId\\\":9999999,\\\"PickupTime\\\":\\\"2022-03-01T00:00:00.000Z\\\",\\\"DropTime\\\":\\\"2022-03-01T00:15:34.000Z\\\",\\\"PickupLocationId\\\":170,\\\"DropLocationId\\\":170,\\\"CabNumber\\\":\\\"TAC399\\\",\\\"DriverLicenseNumber\\\":\\\"5131685\\\",\\\"PassengerCount\\\":1,\\\"TripDistance\\\":2.9,\\\"RatecodeId\\\":1,\\\"PaymentType\\\":2,\\\"TotalAmount\\\":15.3,\\\"FareAmount\\\":13.0,\\\"Extra\\\":0.5,\\\"MtaTax\\\":0.5,\\\"TripAmount\\\":2.05,\\\"TollsAmount\\\":0.0,\\\"ImprovementSurcharge\\\":0.3,\\\"PickUpYear\\\":2022,\\\"PickUpMonth\\\":3,\\\"PickUpDay\\\":1},\n",
    "    \n",
    "    \\\"nullCount\\\":{\\\"RideId\\\":0,\\\"PickupTime\\\":0,\\\"DropTime\\\":0,\\\"PickupLocationId\\\":0,\\\"DropLocationId\\\":0,\\\"CabNumber\\\":0,\\\"DriverLicenseNumber\\\":0,\\\"PassengerCount\\\":0,\\\"TripDistance\\\":0,\\\"RatecodeId\\\":0,\\\"PaymentType\\\":0,\\\"TotalAmount\\\":0,\\\"FareAmount\\\":0,\\\"Extra\\\":0,\\\"MtaTax\\\":0,\\\"TripAmount\\\":0,\\\"TollsAmount\\\":0,\\\"ImprovementSurcharge\\\":0,\\\"PickUpYear\\\":0,\\\"PickUpMonth\\\":0,\\\"PickUpDay\\\":0}}\",\n",
    "\t\t\"tags\": {\n",
    "\t\t\t\"INSERTION_TIME\": \"1715496718000000\",\n",
    "\t\t\t\"MIN_INSERTION_TIME\": \"1715496718000000\",\n",
    "\t\t\t\"MAX_INSERTION_TIME\": \"1715496718000000\",\n",
    "\t\t\t\"OPTIMIZE_TARGET_SIZE\": \"268435456\"\n",
    "\t\t}\n",
    "\t}\n",
    "}"
   ]
  },
  {
   "cell_type": "code",
   "execution_count": 0,
   "metadata": {
    "application/vnd.databricks.v1+cell": {
     "cellMetadata": {
      "byteLimit": 2048000,
      "rowLimit": 10000
     },
     "inputWidgets": {},
     "nuid": "ef5a35a7-c6fa-40e3-bc80-a236b4a8c6d6",
     "showTitle": false,
     "tableResultSettingsMap": {},
     "title": ""
    }
   },
   "outputs": [],
   "source": [
    "%python\n",
    "# recreate parquet and delta files\n",
    "dbutils.fs.rm(\"abfss://datalake@mue10dadls01.dfs.core.windows.net/ShauryaRawat/Output/YellowTaxis.parquet\", True)\n",
    "dbutils.fs.rm(\"abfss://datalake@mue10dadls01.dfs.core.windows.net/ShauryaRawat/Output/YellowTaxis.delta\", True)"
   ]
  },
  {
   "cell_type": "code",
   "execution_count": 0,
   "metadata": {
    "application/vnd.databricks.v1+cell": {
     "cellMetadata": {
      "byteLimit": 2048000,
      "rowLimit": 10000
     },
     "inputWidgets": {},
     "nuid": "72430ce8-8958-4390-b130-e137a015cd1e",
     "showTitle": false,
     "tableResultSettingsMap": {},
     "title": ""
    }
   },
   "outputs": [],
   "source": [
    "%sql\n",
    "DROP TABLE IF EXISTS taxisDB.YellowTaxisParquet;\n",
    "DROP TABLE IF EXISTS taxisDB.YellowTaxisDelta"
   ]
  },
  {
   "cell_type": "code",
   "execution_count": 0,
   "metadata": {
    "application/vnd.databricks.v1+cell": {
     "cellMetadata": {
      "byteLimit": 2048000,
      "rowLimit": 10000
     },
     "inputWidgets": {},
     "nuid": "f4a4a7b7-afaf-408e-b001-c636a4aaf071",
     "showTitle": false,
     "tableResultSettingsMap": {},
     "title": ""
    }
   },
   "outputs": [],
   "source": [
    "%python\n",
    "# Create Schema and dataframe \n",
    "from pyspark.sql.functions import *\n",
    "from pyspark.sql.types import *\n",
    "\n",
    "yellowTaxiSchema = (\n",
    "    StructType()\n",
    "   .add(\"RideId\", \"integer\")\n",
    "   .add(\"VendorId\", \"integer\")\n",
    "   .add(\"PickupTime\", \"timestamp\")\n",
    "   .add(\"DropTime\", \"timestamp\")\n",
    "   .add(\"PickupLocationId\", \"integer\")\n",
    "   .add(\"DropLocationId\", \"integer\")\n",
    "   .add(\"CabNumber\", \"string\")\n",
    "   .add(\"DriverLicenseNumber\", \"string\")\n",
    "   .add(\"PassengerCount\", \"integer\")\n",
    "   .add(\"TripDistance\", \"double\")\n",
    "   .add(\"RatecodeId\", \"integer\")\n",
    "   .add(\"PaymentType\", \"integer\")\n",
    "   .add(\"TotalAmount\", \"double\")\n",
    "   .add(\"FareAmount\", \"double\")\n",
    "   .add(\"Extra\", \"double\")\n",
    "   .add(\"MtaTax\", \"double\")\n",
    "   .add(\"TripAmount\", \"double\")\n",
    "   .add(\"TollsAmount\", \"double\")\n",
    "   .add(\"ImprovementSurcharge\", \"double\")\n",
    ")\n",
    "yellowTaxisDF = (\n",
    "    spark \n",
    "    .read \n",
    "    .option('header', 'true')\n",
    "    .schema(yellowTaxiSchema)\n",
    "    .csv(\"abfss://datalake@mue10dadls01.dfs.core.windows.net/ShauryaRawat/raw/YellowTaxis/YellowTaxis1.csv\")\n",
    ")\n",
    "yellowTaxisDF = (\n",
    "    yellowTaxisDF\n",
    "    .withColumn(\"TripYear\", year(\"PickupTime\"))\n",
    "    .withColumn(\"TripMonth\", month(\"PickupTime\"))\n",
    "    .withColumn(\"TripDay\", dayofmonth(\"PickupTime\"))\n",
    ")"
   ]
  },
  {
   "cell_type": "code",
   "execution_count": 0,
   "metadata": {
    "application/vnd.databricks.v1+cell": {
     "cellMetadata": {
      "byteLimit": 2048000,
      "rowLimit": 10000
     },
     "inputWidgets": {},
     "nuid": "1c39ac1e-4836-465b-b422-2aa227bc84c3",
     "showTitle": false,
     "tableResultSettingsMap": {},
     "title": ""
    }
   },
   "outputs": [],
   "source": [
    "%python\n",
    " # Save table in parquet as well as delta format\n",
    " # Data Lake vs Delta Lake\n",
    "\n",
    " (\n",
    "     yellowTaxisDF\n",
    "     .write\n",
    "     .mode(\"overwrite\")\n",
    "     .partitionBy(\"PickupLocationId\")\n",
    "     .format(\"parquet\")\n",
    "     .option(\"path\", \"abfss://datalake@mue10dadls01.dfs.core.windows.net/ShauryaRawat/Output/YellowTaxis.parquet\")\n",
    "     .saveAsTable(\"TaxisDB.YellowTaxisParquet\")\n",
    " )\n",
    " (\n",
    "     yellowTaxisDF\n",
    "     .write \n",
    "     .mode(\"overwrite\")\n",
    "     .partitionBy(\"pickupLocationId\")\n",
    "     .format(\"delta\")\n",
    "     .option(\"path\", \"abfss://datalake@mue10dadls01.dfs.core.windows.net/ShauryaRawat/Output/YellowTaxis.delta\")\n",
    "     .saveAsTable(\"TaxisDB.YellowTaxisDelta\")\n",
    " )"
   ]
  },
  {
   "cell_type": "code",
   "execution_count": 0,
   "metadata": {
    "application/vnd.databricks.v1+cell": {
     "cellMetadata": {
      "byteLimit": 2048000,
      "rowLimit": 10000
     },
     "inputWidgets": {},
     "nuid": "2df58bd3-df25-4b55-823c-b6cd3e7082d4",
     "showTitle": false,
     "tableResultSettingsMap": {},
     "title": ""
    }
   },
   "outputs": [],
   "source": [
    "%sql\n",
    "-- Took 4.5 seconds\n",
    "Select count(*) from TaxisDB.YellowTaxisParquet"
   ]
  },
  {
   "cell_type": "code",
   "execution_count": 0,
   "metadata": {
    "application/vnd.databricks.v1+cell": {
     "cellMetadata": {
      "byteLimit": 2048000,
      "rowLimit": 10000
     },
     "inputWidgets": {},
     "nuid": "3271a3ff-f35e-4b48-be4d-6e70bb4ba07c",
     "showTitle": false,
     "tableResultSettingsMap": {},
     "title": ""
    }
   },
   "outputs": [],
   "source": [
    "%sql\n",
    "-- Took 1.14 seconds\n",
    "Select count(*) from TaxisDB.YellowTaxisDelta"
   ]
  },
  {
   "cell_type": "code",
   "execution_count": 0,
   "metadata": {
    "application/vnd.databricks.v1+cell": {
     "cellMetadata": {
      "byteLimit": 2048000,
      "rowLimit": 10000
     },
     "inputWidgets": {},
     "nuid": "8998a82b-1f06-4729-854f-017387e97cff",
     "showTitle": false,
     "tableResultSettingsMap": {},
     "title": ""
    }
   },
   "outputs": [],
   "source": [
    "%sql\n",
    "Select * from TaxisDB.YellowTaxisParquet\n",
    "where RideId = 67"
   ]
  },
  {
   "cell_type": "markdown",
   "metadata": {
    "application/vnd.databricks.v1+cell": {
     "cellMetadata": {},
     "inputWidgets": {},
     "nuid": "857e116d-312b-43eb-99bc-b683545f9eeb",
     "showTitle": false,
     "tableResultSettingsMap": {},
     "title": ""
    }
   },
   "source": [
    "Optimizing and Z-Ordering Delta Table\n",
    "\n",
    "Options:\n",
    "1. Bin Packing / File compaction\n",
    "2. Z-Ordering\n",
    "\n",
    "Bin-Packing ( or File Compaction):\n",
    "- Convert many small sixe partition files (multiple inserts, updates, delete over time) to bigger size file (evenly balanced, large file, compressed data)\n",
    "- Run Optimize command on Delta table\n",
    "- Max size 1 GB by default\n",
    "- Previous files are also kept to support time travel\n",
    "\n",
    "Z-Ordering:\n",
    "- Performs Bin-packing and also sort data based on column (Similar to cluster index on DB)\n",
    "- Run Optimize ZOrder By(Column)\n",
    "- Improves performance by data skipping(sorted data is easy to be searched)\n",
    "- Use column which are frequently used in filetring, joining and grouping\n",
    "\n",
    "* Both are CPU intensive, costly operation, run command during quite business hours"
   ]
  },
  {
   "cell_type": "code",
   "execution_count": 0,
   "metadata": {
    "application/vnd.databricks.v1+cell": {
     "cellMetadata": {
      "byteLimit": 2048000,
      "rowLimit": 10000
     },
     "inputWidgets": {},
     "nuid": "e1732e52-f70c-4edd-8641-76360f86af43",
     "showTitle": false,
     "tableResultSettingsMap": {},
     "title": ""
    }
   },
   "outputs": [],
   "source": [
    "%sql\n",
    "-- Check performance before optimization \n",
    "-- Data Lake (14.05 s)\n",
    "SELECT PickupLocationId, Count(*) AS TotalRides\n",
    "FROM TaxisDB.YellowTaxisParquet\n",
    "WHERE TripYear = 2022\n",
    "      AND TripMonth = 3\n",
    "      AND TripDay = 15\n",
    "GROUP BY PickupLocationId\n",
    "ORDER BY TotalRides DESC "
   ]
  },
  {
   "cell_type": "code",
   "execution_count": 0,
   "metadata": {
    "application/vnd.databricks.v1+cell": {
     "cellMetadata": {
      "byteLimit": 2048000,
      "rowLimit": 10000
     },
     "inputWidgets": {},
     "nuid": "151d3f10-4c5c-4849-beab-a745a160f1da",
     "showTitle": false,
     "tableResultSettingsMap": {},
     "title": ""
    }
   },
   "outputs": [],
   "source": [
    "%sql\n",
    "-- Check performance before optimization  (Data skipping)\n",
    "-- Delta Lake (6.55 s) \n",
    "SELECT PickupLocationId, Count(*) AS TotalRides\n",
    "FROM TaxisDB.YellowTaxisDelta\n",
    "WHERE TripYear = 2022\n",
    "      AND TripMonth = 3\n",
    "      AND TripDay = 15\n",
    "GROUP BY PickupLocationId\n",
    "ORDER BY TotalRides DESC "
   ]
  },
  {
   "cell_type": "code",
   "execution_count": 0,
   "metadata": {
    "application/vnd.databricks.v1+cell": {
     "cellMetadata": {
      "byteLimit": 2048000,
      "rowLimit": 10000
     },
     "inputWidgets": {},
     "nuid": "fd24f710-d0f2-49b8-b85c-218b8522c40b",
     "showTitle": false,
     "tableResultSettingsMap": {},
     "title": ""
    }
   },
   "outputs": [],
   "source": [
    "%sql\n",
    "-- Optimize - Bin Packing\n",
    "\n",
    "OPTIMIZE TaxisDB.YellowTaxisDelta\n",
    "WHERE PickupLocationId = 100 -- Optional\n",
    "\n",
    "-- Output\n",
    "/*numFilesAdded: 1\n",
    "numFilesRemoved: 10\n",
    "filesAdded: {\"min\": 5383836, \"max\": 5383836, \"avg\": 5383836, \"totalFiles\": 1, \"totalSize\": 5383836}\n",
    "filesRemoved: {\"min\": 216600, \"max\": 755463, \"avg\": 652716.9, \"totalFiles\": 10, \"totalSize\": 6527169}\n",
    "*/\n"
   ]
  },
  {
   "cell_type": "code",
   "execution_count": 0,
   "metadata": {
    "application/vnd.databricks.v1+cell": {
     "cellMetadata": {
      "byteLimit": 2048000,
      "rowLimit": 10000
     },
     "inputWidgets": {},
     "nuid": "ac3de9f2-851f-4170-8bbc-01a711319b34",
     "showTitle": false,
     "tableResultSettingsMap": {},
     "title": ""
    }
   },
   "outputs": [],
   "source": [
    "%sql\n",
    "-- Optimize: Z Ordering\n",
    "OPTIMIZE TaxisDB.YellowTaxisDelta\n",
    "ZORDER BY (TripYear, TripMonth, TripDay)"
   ]
  },
  {
   "cell_type": "code",
   "execution_count": 0,
   "metadata": {
    "application/vnd.databricks.v1+cell": {
     "cellMetadata": {
      "byteLimit": 2048000,
      "rowLimit": 10000
     },
     "inputWidgets": {},
     "nuid": "2816366b-18a8-47ae-af2f-7d261e97b687",
     "showTitle": false,
     "tableResultSettingsMap": {},
     "title": ""
    }
   },
   "outputs": [],
   "source": [
    "%sql\n",
    "-- Check performance after optimization \n",
    "-- Delta Lake (1.53 s) \n",
    "SELECT PickupLocationId, Count(*) AS TotalRides\n",
    "FROM TaxisDB.YellowTaxisDelta\n",
    "WHERE TripYear = 2022\n",
    "      AND TripMonth = 3\n",
    "      AND TripDay = 15\n",
    "GROUP BY PickupLocationId\n",
    "ORDER BY TotalRides DESC "
   ]
  },
  {
   "cell_type": "markdown",
   "metadata": {
    "application/vnd.databricks.v1+cell": {
     "cellMetadata": {},
     "inputWidgets": {},
     "nuid": "42cd1ae1-2892-4536-9052-cfbe84e16de4",
     "showTitle": false,
     "tableResultSettingsMap": {},
     "title": ""
    }
   },
   "source": [
    "VACCUM\n",
    "1. Physically removes data files\n",
    "   - Files that are no longer referenced in the latest transaction log state\n",
    "   - Files older than retention threshold (default is 7)\n",
    "   - Affects time travel (Set the retention period for time travel and run vaccum periodically)"
   ]
  },
  {
   "cell_type": "code",
   "execution_count": 0,
   "metadata": {
    "application/vnd.databricks.v1+cell": {
     "cellMetadata": {
      "byteLimit": 2048000,
      "rowLimit": 10000
     },
     "inputWidgets": {},
     "nuid": "082c49d0-6d6b-4bb0-bff0-35bac00152ca",
     "showTitle": false,
     "tableResultSettingsMap": {},
     "title": ""
    }
   },
   "outputs": [],
   "source": [
    "%sql\n",
    "DESCRIBE HISTORY TaxisDB.YellowTaxisDelta"
   ]
  },
  {
   "cell_type": "code",
   "execution_count": 0,
   "metadata": {
    "application/vnd.databricks.v1+cell": {
     "cellMetadata": {
      "byteLimit": 2048000,
      "rowLimit": 10000
     },
     "inputWidgets": {},
     "nuid": "42518a52-16de-48a7-8b83-3d44eccc81e3",
     "showTitle": false,
     "tableResultSettingsMap": {},
     "title": ""
    }
   },
   "outputs": [],
   "source": [
    "%sql\n",
    "-- Run VACUUM to clean the old files\n",
    "VACUUM TaxisDB.YellowTaxisDelta\n",
    "RETAIN 0 HOURS DRY RUN                  -- Default is 7\n",
    "\n",
    "/* Output\n",
    "Are you sure you would like to vacuum files with such a low retention period?\n",
    "Databricks stops us from deleting files with such low retention period\n",
    "*/"
   ]
  },
  {
   "cell_type": "code",
   "execution_count": 0,
   "metadata": {
    "application/vnd.databricks.v1+cell": {
     "cellMetadata": {
      "byteLimit": 2048000,
      "rowLimit": 10000
     },
     "inputWidgets": {},
     "nuid": "adbb1333-781f-40dc-88a5-a8c158852e5e",
     "showTitle": false,
     "tableResultSettingsMap": {},
     "title": ""
    }
   },
   "outputs": [],
   "source": [
    "%sql\n",
    "-- If still want to delete, set retention perios to false\n",
    "SET spark.databricks.delta.retentionDurationCheck.enabled = false"
   ]
  },
  {
   "cell_type": "code",
   "execution_count": 0,
   "metadata": {
    "application/vnd.databricks.v1+cell": {
     "cellMetadata": {
      "byteLimit": 2048000,
      "rowLimit": 10000
     },
     "inputWidgets": {},
     "nuid": "8cd7f32a-db33-48cb-8492-94f0b5d54677",
     "showTitle": false,
     "tableResultSettingsMap": {},
     "title": ""
    }
   },
   "outputs": [],
   "source": [
    "%sql\n",
    "-- Run again VACUUM to clean the old files (returns file to be deleted)\n",
    "VACUUM TaxisDB.YellowTaxisDelta\n",
    "RETAIN 0 HOURS DRY RUN    "
   ]
  },
  {
   "cell_type": "code",
   "execution_count": 0,
   "metadata": {
    "application/vnd.databricks.v1+cell": {
     "cellMetadata": {
      "byteLimit": 2048000,
      "rowLimit": 10000
     },
     "inputWidgets": {},
     "nuid": "50070e98-8e23-472d-bd40-387efe754e7c",
     "showTitle": false,
     "tableResultSettingsMap": {},
     "title": ""
    }
   },
   "outputs": [],
   "source": [
    "%sql\n",
    "-- Run again VACUUM to clean the old files (withour dry run)\n",
    "VACUUM TaxisDB.YellowTaxisDelta\n",
    "RETAIN 0 HOURS"
   ]
  },
  {
   "cell_type": "code",
   "execution_count": 0,
   "metadata": {
    "application/vnd.databricks.v1+cell": {
     "cellMetadata": {
      "byteLimit": 2048000,
      "rowLimit": 10000
     },
     "inputWidgets": {},
     "nuid": "f3e604ae-a5ff-4918-a449-d92316ac178f",
     "showTitle": false,
     "tableResultSettingsMap": {},
     "title": ""
    }
   },
   "outputs": [],
   "source": [
    "%sql\n",
    "-- History is still returned, but files are not available\n",
    "DESCRIBE HISTORY TaxisDB.YellowTaxisDelta"
   ]
  },
  {
   "cell_type": "code",
   "execution_count": 0,
   "metadata": {
    "application/vnd.databricks.v1+cell": {
     "cellMetadata": {
      "byteLimit": 2048000,
      "rowLimit": 10000
     },
     "inputWidgets": {},
     "nuid": "84de5167-b4eb-499c-9588-28868760c045",
     "showTitle": false,
     "tableResultSettingsMap": {},
     "title": ""
    }
   },
   "outputs": [],
   "source": [
    "%sql\n",
    "-- Older file does not exists\n",
    "SELECT * FROM TaxisDB.YellowTaxisDelta VERSION AS OF 0"
   ]
  },
  {
   "cell_type": "markdown",
   "metadata": {
    "application/vnd.databricks.v1+cell": {
     "cellMetadata": {},
     "inputWidgets": {},
     "nuid": "335ce0e5-8759-40d6-ae03-23e55b22ca53",
     "showTitle": false,
     "tableResultSettingsMap": {},
     "title": ""
    }
   },
   "source": [
    "Enabling Auto-Optimization on Delta Table:\n",
    "1. Optimized Writes (Auto bin-packing while writing)\n",
    "2. Auto compaction  (Auto bin-packing after writing)\n",
    "\n",
    "Optimized Writes:\n",
    "1. Databricks creates multiple spark task to write partition files (small partition files). If Optimized writes are enabled, it creates few other tasks to combine these files into larger file.\n",
    "2. While writing data, databricks dynamically tries to create ~128 MB partition files\n",
    "3. Prevents creation of small files without sacrificing parallelism but with slight overhead\n",
    "4. No need to run optimize command later\n",
    "5. Use Case: Helpful when loading streaming data and also performing DML operation on table\n",
    "\n",
    "Auto Compaction:\n",
    "1. Immediately after writing, databricks further checks partition files in Delta folder\n",
    "2. Any non-compacted files are compacted to ~128 MB\n",
    "3. Only runs when there are more than 50 small files\n",
    "4. No need to run optimize command later\n",
    "5. Use case: Helpful when loading streaming data and also where optimize command is called after each write"
   ]
  },
  {
   "cell_type": "code",
   "execution_count": 0,
   "metadata": {
    "application/vnd.databricks.v1+cell": {
     "cellMetadata": {
      "byteLimit": 2048000,
      "rowLimit": 10000
     },
     "inputWidgets": {},
     "nuid": "676ef193-9ea4-4ef1-8da1-a39830bc5d44",
     "showTitle": false,
     "tableResultSettingsMap": {},
     "title": ""
    }
   },
   "outputs": [],
   "source": [
    "%sql\n",
    "CREATE TABLE TaxisDB.YellowTaxis_NonOptimized\n",
    "(\n",
    "  RideId   INT,\n",
    "  VendorId INT,\n",
    "  PickupTime TIMESTAMP,\n",
    "  DropTime TIMESTAMP,\n",
    "  PickupLocationId INT,\n",
    "  DropLocationId INT,\n",
    "  CabNumber STRING,\n",
    "  DriverLicenseNumber STRING,\n",
    "  PassengerCount INT,\n",
    "  TripDistance DOUBLE,\n",
    "  RatecodeId INT,\n",
    "  PaymentType INT,\n",
    "  TotalAmount DOUBLE,\n",
    "  FareAmount DOUBLE,\n",
    "  Extra DOUBLE,\n",
    "  MtaTax DOUBLE,\n",
    "  TripAmount DOUBLE,\n",
    "  TollsAmount DOUBLE,\n",
    "  ImprovementSurcharge DOUBLE\n",
    ")\n",
    "USING DELTA \n",
    "LOCATION \"abfss://datalake@mue10dadls01.dfs.core.windows.net/ShauryaRawat/Output/YellowTaxis_NonOptimized.delta\"\n",
    "PARTITIONED BY (PickupLocationId)"
   ]
  },
  {
   "cell_type": "code",
   "execution_count": 0,
   "metadata": {
    "application/vnd.databricks.v1+cell": {
     "cellMetadata": {
      "byteLimit": 2048000,
      "rowLimit": 10000
     },
     "inputWidgets": {},
     "nuid": "6ef2b6e9-2bce-473c-a64a-33ec47cfc51e",
     "showTitle": false,
     "tableResultSettingsMap": {},
     "title": ""
    }
   },
   "outputs": [],
   "source": [
    "%python\n",
    "\n",
    "# Create schema for green taxi data\n",
    "from pyspark.sql.functions import *\n",
    "from pyspark.sql.types import *\n",
    "\n",
    "yellowTaxiSchema = (\n",
    "    StructType()\n",
    "    .add(\"RideId\", \"integer\")\n",
    "    .add(\"VendorId\", \"integer\")\n",
    "    .add(\"PickupTime\", \"timestamp\")\n",
    "    .add(\"DropTime\", \"timestamp\")\n",
    "    .add(\"PickupLocationId\", \"integer\")\n",
    "    .add(\"DropLocationId\", \"integer\")\n",
    "    .add(\"CabNumber\", \"string\")\n",
    "    .add(\"DriverLicenseNumber\", \"string\")\n",
    "    .add(\"PassengerCount\", \"integer\")\n",
    "    .add(\"TripDistance\", \"double\")\n",
    "    .add(\"RatecodeId\", \"integer\")\n",
    "    .add(\"PaymentType\", \"integer\")\n",
    "    .add(\"TotalAmount\", \"double\")\n",
    "    .add(\"FareAmount\", \"double\")\n",
    "    .add(\"Extra\", \"double\")\n",
    "    .add(\"MtaTax\", \"double\")\n",
    "    .add(\"TripAmount\", \"double\")\n",
    "    .add(\"TollsAmount\", \"double\")\n",
    "    .add(\"ImprovementSurcharge\", \"double\")\n",
    ")\n",
    "\n",
    "yellowTaxisDF = (\n",
    "    spark \n",
    "    .read \n",
    "    .option(\"header\", \"true\")\n",
    "    .schema(yellowTaxiSchema)\n",
    "    .csv(\"abfss://datalake@mue10dadls01.dfs.core.windows.net/ShauryaRawat/raw/YellowTaxis/YellowTaxis1.csv\")\n",
    ")"
   ]
  },
  {
   "cell_type": "code",
   "execution_count": 0,
   "metadata": {
    "application/vnd.databricks.v1+cell": {
     "cellMetadata": {
      "byteLimit": 2048000,
      "rowLimit": 10000
     },
     "inputWidgets": {},
     "nuid": "de523c8e-af2f-4a5b-bf82-184312718d37",
     "showTitle": false,
     "tableResultSettingsMap": {},
     "title": ""
    }
   },
   "outputs": [],
   "source": [
    "%python\n",
    "(\n",
    "    yellowTaxisDF \n",
    "    .write\n",
    "    .mode(\"append\")\n",
    "    .partitionBy(\"PickupLocationId\")\n",
    "    .format(\"delta\")\n",
    "    .save(\"abfss://datalake@mue10dadls01.dfs.core.windows.net/ShauryaRawat/Output/YellowTaxis_NonOptimized.delta\")\n",
    ")"
   ]
  },
  {
   "cell_type": "code",
   "execution_count": 0,
   "metadata": {
    "application/vnd.databricks.v1+cell": {
     "cellMetadata": {
      "byteLimit": 2048000,
      "rowLimit": 10000
     },
     "inputWidgets": {},
     "nuid": "6bb7fb5a-5922-4acf-831b-e6a6d25b9639",
     "showTitle": false,
     "tableResultSettingsMap": {},
     "title": ""
    }
   },
   "outputs": [],
   "source": [
    "%sql\n",
    "-- Enabling Auto-Optimized\n",
    "\n",
    "CREATE TABLE TaxisDB.YellowTaxis_Optimized\n",
    "(\n",
    "  RideId   INT                COMMENT 'This is the primary key column',\n",
    "  VendorId INT,\n",
    "  PickupTime TIMESTAMP,\n",
    "  DropTime TIMESTAMP,\n",
    "  PickupLocationId INT,\n",
    "  DropLocationId INT,\n",
    "  CabNumber STRING,\n",
    "  DriverLicenseNumber STRING,\n",
    "  PassengerCount INT,\n",
    "  TripDistance DOUBLE,\n",
    "  RatecodeId INT,\n",
    "  PaymentType INT,\n",
    "  TotalAmount DOUBLE,\n",
    "  FareAmount DOUBLE,\n",
    "  Extra DOUBLE,\n",
    "  MtaTax DOUBLE,\n",
    "  TripAmount DOUBLE,\n",
    "  TollsAmount DOUBLE,\n",
    "  ImprovementSurcharge DOUBLE\n",
    ")\n",
    "USING DELTA \n",
    "LOCATION \"abfss://datalake@mue10dadls01.dfs.core.windows.net/ShauryaRawat/Output/YellowTaxis_Optimized.delta\"\n",
    "PARTITIONED BY (PickupLocationId)\n",
    "\n",
    "TBLPROPERTIES (delta.autoOptimize.optimizeWrite = true, delta.autoOptimize.autoCompact = true)"
   ]
  },
  {
   "cell_type": "code",
   "execution_count": 0,
   "metadata": {
    "application/vnd.databricks.v1+cell": {
     "cellMetadata": {
      "byteLimit": 2048000,
      "rowLimit": 10000
     },
     "inputWidgets": {},
     "nuid": "918500a9-0aee-473f-8929-36879eeb44c4",
     "showTitle": false,
     "tableResultSettingsMap": {},
     "title": ""
    }
   },
   "outputs": [],
   "source": [
    "%sql\n",
    "-- Auto-Optimized created one file instead of 10 files in each partition\n",
    "%python\n",
    "(\n",
    "    yellowTaxisDF\n",
    "    .write\n",
    "    .mode(\"append\")\n",
    "    .partitionBy(\"PickupLocationId\")\n",
    "    .format(\"delta\")\n",
    "    .save(\"abfss://datalake@mue10dadls01.dfs.core.windows.net/ShauryaRawat/Output/YellowTaxis_Optimized.delta\")\n",
    ")"
   ]
  },
  {
   "cell_type": "markdown",
   "metadata": {
    "application/vnd.databricks.v1+cell": {
     "cellMetadata": {},
     "inputWidgets": {},
     "nuid": "f422ce0e-d051-4272-9079-5a531c459369",
     "showTitle": false,
     "tableResultSettingsMap": {},
     "title": ""
    }
   },
   "source": [
    "Photon Execution Engine\n",
    "\n",
    "1. Native vectorized query engine built by databricks\n",
    "2. Written in C++ taking benefit of modern hardware\n",
    "3. Works with Delta and Parquet based tables\n",
    "4. Much faster than spark against high data volumes\n",
    "5. To use it, select databricks runtime with photon\n",
    "6. Different pricing than spark based clusters\n",
    "\n",
    "\n",
    "Now, Photon is supported by default in clusters \n",
    "New -> Compute (Cluster)\n",
    "Option: Use Photon Acceleration above 9.1 LTS runtime"
   ]
  },
  {
   "cell_type": "markdown",
   "metadata": {
    "application/vnd.databricks.v1+cell": {
     "cellMetadata": {},
     "inputWidgets": {},
     "nuid": "75cd129a-7790-4a80-ae4b-9baab33d07ef",
     "showTitle": false,
     "tableResultSettingsMap": {},
     "title": ""
    }
   },
   "source": [
    "Caching Types\n",
    "\n",
    "1. Apache Spark Cache (Part of Spark)\n",
    "2. Delta Cache (Part of Delta Engine)\n",
    "\n",
    "How Delta Cache Works?\n",
    "1. Works for Parquet and Delta formats\n",
    "2. Files are read from external storage for the first time\n",
    "3. Stored on local disks of cluster machines\n",
    "4. Successive reads of same data are served using local files, improving query performance \n",
    "5. Cache is automatically invalidated / evicted if:\n",
    "   - Underlying files are modified\n",
    "   - Cluster is restarted\n",
    "\n",
    "How to use Delta Cache?\n",
    "- While creating cluster, select \"Use Delta Cache accelerated VMs\" as worker machines - caching enabled by default\n",
    "  - When creating cluster 2 options exists for worker types:\n",
    "    1. Memory optimized (Delta cache accelerated)\n",
    "    2. Storage optimized (Delta cache accelerated)\n",
    "- For other type of machines (VM), explicitly enable the cache"
   ]
  },
  {
   "cell_type": "code",
   "execution_count": 0,
   "metadata": {
    "application/vnd.databricks.v1+cell": {
     "cellMetadata": {
      "byteLimit": 2048000,
      "rowLimit": 10000
     },
     "inputWidgets": {},
     "nuid": "837a4c4f-def5-431a-b864-ebba2a72c01e",
     "showTitle": false,
     "tableResultSettingsMap": {},
     "title": ""
    }
   },
   "outputs": [
    {
     "output_type": "execute_result",
     "data": {
      "text/plain": [
       "'true'"
      ]
     },
     "execution_count": 4,
     "metadata": {},
     "output_type": "execute_result"
    }
   ],
   "source": [
    "%python\n",
    "# Check if delta cache is enabled\n",
    "spark.conf.get(\"spark.databricks.io.cache.enabled\")\n"
   ]
  },
  {
   "cell_type": "code",
   "execution_count": 0,
   "metadata": {
    "application/vnd.databricks.v1+cell": {
     "cellMetadata": {
      "byteLimit": 2048000,
      "rowLimit": 10000
     },
     "inputWidgets": {},
     "nuid": "1053e889-2496-436a-932f-0b0dab222edb",
     "showTitle": false,
     "tableResultSettingsMap": {},
     "title": ""
    }
   },
   "outputs": [],
   "source": [
    "%python\n",
    "# To enable the cache (if not enabled) use \n",
    "spark.conf.set(\"spark.databricks.io.cache.enabled\", \"true\")"
   ]
  },
  {
   "cell_type": "code",
   "execution_count": 0,
   "metadata": {
    "application/vnd.databricks.v1+cell": {
     "cellMetadata": {
      "byteLimit": 2048000,
      "rowLimit": 10000
     },
     "inputWidgets": {},
     "nuid": "6a084fe9-cf88-412a-9c20-e6296cd1a3ce",
     "showTitle": false,
     "tableResultSettingsMap": {},
     "title": ""
    }
   },
   "outputs": [
    {
     "output_type": "display_data",
     "data": {
      "text/html": [
       "<style scoped>\n",
       "  .table-result-container {\n",
       "    max-height: 300px;\n",
       "    overflow: auto;\n",
       "  }\n",
       "  table, th, td {\n",
       "    border: 1px solid black;\n",
       "    border-collapse: collapse;\n",
       "  }\n",
       "  th, td {\n",
       "    padding: 5px;\n",
       "  }\n",
       "  th {\n",
       "    text-align: left;\n",
       "  }\n",
       "</style><div class='table-result-container'><table class='table-result'><thead style='background-color: white'><tr></tr></thead><tbody></tbody></table></div>"
      ]
     },
     "metadata": {
      "application/vnd.databricks.v1+output": {
       "addedWidgets": {},
       "aggData": [],
       "aggError": "",
       "aggOverflow": false,
       "aggSchema": [],
       "aggSeriesLimitReached": false,
       "aggType": "",
       "arguments": {},
       "columnCustomDisplayInfos": {},
       "data": [],
       "datasetInfos": [],
       "dbfsResultPath": null,
       "isJsonSchema": true,
       "metadata": {
        "isDbfsCommandResult": false
       },
       "overflow": false,
       "plotOptions": {
        "customPlotOptions": {},
        "displayType": "table",
        "pivotAggregation": null,
        "pivotColumns": null,
        "xColumns": null,
        "yColumns": null
       },
       "removedWidgets": [],
       "schema": [],
       "type": "table"
      }
     },
     "output_type": "display_data"
    }
   ],
   "source": [
    "%sql\n",
    "-- If delta cache is not provided in Cluster, you can explicitly push data to delta cache, with CACHE keyword\n",
    "\n",
    "CACHE\n",
    "SELECT * from TaxisDB.YellowTaxisDelta\n",
    "WHERE TripDay = 1"
   ]
  },
  {
   "cell_type": "markdown",
   "metadata": {
    "application/vnd.databricks.v1+cell": {
     "cellMetadata": {},
     "inputWidgets": {},
     "nuid": "34f1aae8-b2d9-47e8-9347-953b490c90e3",
     "showTitle": false,
     "tableResultSettingsMap": {},
     "title": ""
    }
   },
   "source": [
    "Delta Engine - Summary\n",
    "1. High performance query engine built into runtime\n",
    "2. 3 components: Optimizations, Photon, Delta Cache"
   ]
  }
 ],
 "metadata": {
  "application/vnd.databricks.v1+notebook": {
   "computePreferences": null,
   "dashboards": [],
   "environmentMetadata": null,
   "language": "python",
   "notebookMetadata": {
    "pythonIndentUnit": 4
   },
   "notebookName": "DeltaEngine_Shaurya_3",
   "widgets": {}
  },
  "language_info": {
   "name": "python"
  }
 },
 "nbformat": 4,
 "nbformat_minor": 0
}