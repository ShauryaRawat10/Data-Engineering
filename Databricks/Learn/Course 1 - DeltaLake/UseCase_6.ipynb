{
 "cells": [
  {
   "cell_type": "markdown",
   "metadata": {
    "application/vnd.databricks.v1+cell": {
     "cellMetadata": {},
     "inputWidgets": {},
     "nuid": "60c4966b-deb9-4a10-bca3-58f9cd98acb8",
     "showTitle": false,
     "tableResultSettingsMap": {},
     "title": ""
    }
   },
   "source": [
    "#####Querying Delta tables with Azure Synapse Analytics\n",
    "\n",
    "Azure Synapse:\n",
    "1. Unified Analytics Service\n",
    "2. Used for Data ingestion, data warehousing, big data analytics and more\n",
    "3. Multiple Compute engines:\n",
    "   - Dedicated SQL pool\n",
    "   - Apache spark pool\n",
    "   - Serverless sql pool\n",
    "\n",
    "#####How to Query delta lake\n",
    "1. Apache Spark Pool\n",
    "   - Uses open source delta lake component\n",
    "   - To use it setup spark pool\n",
    "   - read and write data in delta format\n",
    "2. Serverless SQL pool\n",
    "   - No preprovisioned infra required\n",
    "   - Directly query delta format\n",
    "   - Only pay for the amount of data consumed by queries\n",
    "\n",
    "\n",
    "\n",
    "Practical:\n",
    "1. Spark Pool: When notebook is querying, then you can select\n",
    "2. Serverless Pool: When selected SQL script in Synapse."
   ]
  },
  {
   "cell_type": "markdown",
   "metadata": {
    "application/vnd.databricks.v1+cell": {
     "cellMetadata": {},
     "inputWidgets": {},
     "nuid": "f5f5f7f4-1eb7-48ff-a37e-291821d36b45",
     "showTitle": false,
     "tableResultSettingsMap": {},
     "title": ""
    }
   },
   "source": [
    "#####Consuming Delta Table with Power Bi\n",
    "Option 1: Connect using cluster information\n",
    "- From cluster copy Server Name and HTTP path\n",
    "- Copy databricks access token\n",
    "- Connect in Powerbi with credencials\n",
    "\n",
    "Option 2: Connect using databricks PartnerConnect\n",
    "- Open PartnerConnect and select Powerbi\n",
    "- Download and open connection file in Powerbi\n",
    "- Login with Azure AD credencials or Access token"
   ]
  },
  {
   "cell_type": "code",
   "execution_count": 0,
   "metadata": {
    "application/vnd.databricks.v1+cell": {
     "cellMetadata": {},
     "inputWidgets": {},
     "nuid": "6f38bfca-f4b9-4f9f-b8c6-7709bcb8d130",
     "showTitle": false,
     "tableResultSettingsMap": {},
     "title": ""
    }
   },
   "outputs": [],
   "source": []
  },
  {
   "cell_type": "code",
   "execution_count": 0,
   "metadata": {
    "application/vnd.databricks.v1+cell": {
     "cellMetadata": {
      "byteLimit": 2048000,
      "rowLimit": 10000
     },
     "inputWidgets": {},
     "nuid": "7a1dfc51-6a1e-4459-a28e-4b8cbf05a90c",
     "showTitle": false,
     "tableResultSettingsMap": {},
     "title": ""
    }
   },
   "outputs": [
    {
     "output_type": "execute_result",
     "data": {
      "text/plain": [
       "True"
      ]
     },
     "execution_count": 1,
     "metadata": {},
     "output_type": "execute_result"
    }
   ],
   "source": [
    "%python\n",
    "# Specify the path where you want to create the folder\n",
    "folder_path = \"abfss://datalake@mue10dadls01.dfs.core.windows.net/ShauryaRawat/Azure Course\"\n",
    "\n",
    "# Create the folder\n",
    "dbutils.fs.mkdirs(folder_path)"
   ]
  }
 ],
 "metadata": {
  "application/vnd.databricks.v1+notebook": {
   "computePreferences": null,
   "dashboards": [],
   "environmentMetadata": null,
   "language": "python",
   "notebookMetadata": {
    "pythonIndentUnit": 4
   },
   "notebookName": "UseCase_6",
   "widgets": {}
  },
  "language_info": {
   "name": "python"
  }
 },
 "nbformat": 4,
 "nbformat_minor": 0
}