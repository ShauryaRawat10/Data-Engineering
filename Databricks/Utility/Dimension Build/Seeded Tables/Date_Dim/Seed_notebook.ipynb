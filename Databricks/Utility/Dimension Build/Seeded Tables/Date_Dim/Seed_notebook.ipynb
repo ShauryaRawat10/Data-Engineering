{
 "cells": [
  {
   "cell_type": "markdown",
   "metadata": {
    "application/vnd.databricks.v1+cell": {
     "cellMetadata": {},
     "inputWidgets": {},
     "nuid": "3a04098a-4004-4cf3-887d-b34687094119",
     "showTitle": false,
     "tableResultSettingsMap": {},
     "title": ""
    }
   },
   "source": [
    "#### Seed Notebook for Date_Dim\n",
    "- CSV file used is one time load and is static table\n",
    "- Run notebook to overwrite the data in EDW"
   ]
  },
  {
   "cell_type": "code",
   "execution_count": 0,
   "metadata": {
    "application/vnd.databricks.v1+cell": {
     "cellMetadata": {},
     "inputWidgets": {},
     "nuid": "975a18a9-6f8d-4b45-9782-dfec26942c35",
     "showTitle": true,
     "tableResultSettingsMap": {},
     "title": "Define parameters"
    }
   },
   "outputs": [],
   "source": [
    "storage_account_name = dbutils.secrets.get(scope = \"your_key_vault_scope\", key = \"adls_yourstorageaccount\")"
   ]
  },
  {
   "cell_type": "code",
   "execution_count": 0,
   "metadata": {
    "application/vnd.databricks.v1+cell": {
     "cellMetadata": {},
     "inputWidgets": {},
     "nuid": "2314a557-30e1-470b-99f5-a766566075ae",
     "showTitle": true,
     "tableResultSettingsMap": {},
     "title": "Execute DDL"
    }
   },
   "outputs": [],
   "source": [
    "with open('./DDL.sql') as queryFile:\n",
    "    queryText = queryFile.read()\n",
    "queryText = queryText.replace(\"{p_storage_account_name}\", storage_account_name)\n",
    "spark.sql(queryText)"
   ]
  },
  {
   "cell_type": "code",
   "execution_count": 0,
   "metadata": {
    "application/vnd.databricks.v1+cell": {
     "cellMetadata": {},
     "inputWidgets": {},
     "nuid": "b5a1094f-6c5a-400f-9238-b02c5c6bb6ff",
     "showTitle": true,
     "tableResultSettingsMap": {},
     "title": "Schema enforcement"
    }
   },
   "outputs": [],
   "source": [
    "# Creation of Schema for DATE_DIM\n",
    "\n",
    "import os \n",
    "from pyspark.sql.types import StructType, StructField, IntegerType, StringType, DateType\n",
    "\n",
    "DateDimSchema = (\n",
    "    StructType()\n",
    "    .add(\"Date_Dim_Id\", IntegerType(), True)\n",
    "    .add(\"Calendar_Name\", StringType(), True)\n",
    "    .add(\"Date_Num\", IntegerType(), True)\n",
    "    .add(\"Calendar_Date\", DateType(), True)\n",
    "    .add(\"Date_Long_Name\", StringType(), True)\n",
    "    .add(\"Weekday_Name\", StringType(), True)\n",
    "    .add(\"Weekday_Name_Abrv\", StringType(), True)\n",
    "    .add(\"Weekday_Num\", IntegerType(), True)\n",
    "    .add(\"Day_of_Month\", IntegerType(), True)\n",
    "    .add(\"Day_of_Quarter\", IntegerType(), True)\n",
    "    .add(\"Day_of_Year\", IntegerType(), True)\n",
    "    .add(\"Week_Num\", IntegerType(), True)\n",
    "    .add(\"Week_Long_Name\", StringType(), True)\n",
    "    .add(\"Week_Start_Date\", DateType(), True)\n",
    "    .add(\"Week_End_Date\", DateType(), True)\n",
    "    .add(\"Month_Dim_Id\", IntegerType(), True)\n",
    "    .add(\"Month_Num\", IntegerType(), True)\n",
    "    .add(\"Month_Name\", StringType(), True)\n",
    "    .add(\"Month_Name_Abrv\", StringType(), True)\n",
    "    .add(\"Month_Year_Desc\", StringType(), True)\n",
    "    .add(\"Month_Year_Long_Desc\", StringType(), True)\n",
    "    .add(\"Month_Period_Desc\", StringType(), True)\n",
    "    .add(\"Month_of_Quarter\", IntegerType(), True)\n",
    "    .add(\"Month_Start_Date\", DateType(), True)\n",
    "    .add(\"Month_End_Date\", DateType(), True)\n",
    "    .add(\"Quarter_Num\", IntegerType(), True)\n",
    "    .add(\"Quarter_Name\", StringType(), True)\n",
    "    .add(\"Quarter_Long_Name\", StringType(), True)\n",
    "    .add(\"Quarter_Name_Abrv\", StringType(), True)\n",
    "    .add(\"Quarter_Period_Desc\", StringType(), True)\n",
    "    .add(\"Quarter_Start_Date\", DateType(), True)\n",
    "    .add(\"Quarter_End_Date\", DateType(), True)\n",
    "    .add(\"Year_Num\", IntegerType(), True)\n",
    "    .add(\"Year_Period_Desc\", StringType(), True)\n",
    "    .add(\"Year_Start_Date\", DateType(), True)\n",
    "    .add(\"Year_End_Date\", DateType(), True)\n",
    "    .add(\"Prior_Date\", DateType(), True)\n",
    "    .add(\"Prior_Month_Num\", IntegerType(), True)\n",
    "    .add(\"Prior_Month_Name\", StringType(), True)\n",
    "    .add(\"Prior_Month_Name_Abrv\", StringType(), True)\n",
    "    .add(\"Prior_Month_Year_Desc\", StringType(), True)\n",
    "    .add(\"Prior_Month_Period_Desc\", StringType(), True)\n",
    "    .add(\"Prior_Month_Quarter_Num\", IntegerType(), True)\n",
    "    .add(\"Prior_Month_Year_Num\", IntegerType(), True)\n",
    "    .add(\"Prior_Month_Start_Date\", DateType(), True)\n",
    "    .add(\"Prior_Month_End_Date\", DateType(), True)\n",
    "    .add(\"Prior_Quarter_Num\", IntegerType(), True)\n",
    "    .add(\"Prior_Quarter_Name\", StringType(), True)\n",
    "    .add(\"Prior_Quarter_Long_Name\", StringType(), True)\n",
    "    .add(\"Prior_Quarter_Name_Abrv\", StringType(), True)\n",
    "    .add(\"Prior_Quarter_Year_Num\", IntegerType(), True)\n",
    "    .add(\"Prior_Quarter_Start_Date\", DateType(), True)\n",
    "    .add(\"Prior_Quarter_End_Date\", DateType(), True)\n",
    "    .add(\"Prior_Year_Num\", IntegerType(), True)\n",
    "    .add(\"Prior_Year_Start_Date\", DateType(), True)\n",
    "    .add(\"Prior_Year_End_Date\", DateType(), True)\n",
    "    .add(\"Next_Date\", DateType(), True)\n",
    "    .add(\"Next_Month_Num\", IntegerType(), True)\n",
    "    .add(\"Next_Month_Name\", StringType(), True)\n",
    "    .add(\"Next_Month_Name_Abrv\", StringType(), True)\n",
    "    .add(\"Next_Month_Year_Desc\", StringType(), True)\n",
    "    .add(\"Next_Month_Period_Desc\", StringType(), True)\n",
    "    .add(\"Next_Month_Quarter_Num\", IntegerType(), True)\n",
    "    .add(\"Next_Month_Year_Num\", IntegerType(), True)\n",
    "    .add(\"Next_Month_Start_Date\", DateType(), True)\n",
    "    .add(\"Next_Month_End_Date\", DateType(), True)\n",
    "    .add(\"Next_Quarter_Num\", IntegerType(), True)\n",
    "    .add(\"Next_Quarter_Name\", StringType(), True)\n",
    "    .add(\"Next_Quarter_Long_Name\", StringType(), True)\n",
    "    .add(\"Next_Quarter_Name_Abrv\", StringType(), True)\n",
    "    .add(\"Next_Quarter_Year_Num\", IntegerType(), True)\n",
    "    .add(\"Next_Quarter_Start_Date\", DateType(), True)\n",
    "    .add(\"Next_Quarter_End_Date\", DateType(), True)\n",
    "    .add(\"Next_Year_Num\", IntegerType(), True)\n",
    "    .add(\"Next_Year_Start_Date\", DateType(), True)\n",
    "    .add(\"Next_Year_End_Date\", DateType(), True)\n",
    ")\n"
   ]
  },
  {
   "cell_type": "code",
   "execution_count": 0,
   "metadata": {
    "application/vnd.databricks.v1+cell": {
     "cellMetadata": {},
     "inputWidgets": {},
     "nuid": "0c8fea9e-c8bf-4bc4-8494-398f749a2003",
     "showTitle": true,
     "tableResultSettingsMap": {},
     "title": "Read CSV file"
    }
   },
   "outputs": [],
   "source": [
    "# Reading file from local storage\n",
    "date_data_filepath = os.path.abspath('Raw_Data/Date_data.csv')\n",
    "DateDimDF = (\n",
    "    spark\n",
    "    .read\n",
    "    .option('header', 'true')\n",
    "    .schema(DateDimSchema)\n",
    "    .csv('file:' + date_data_filepath)\n",
    ")"
   ]
  },
  {
   "cell_type": "code",
   "execution_count": 0,
   "metadata": {
    "application/vnd.databricks.v1+cell": {
     "cellMetadata": {},
     "inputWidgets": {},
     "nuid": "d0bf43fc-f031-4cce-a332-c843ee1a9c06",
     "showTitle": true,
     "tableResultSettingsMap": {},
     "title": "Override EDW table"
    }
   },
   "outputs": [],
   "source": [
    "# Load to EDW dimension \n",
    "DateDimDF.write.mode('overwrite').format('delta').saveAsTable('edw.date_dim')"
   ]
  }
 ],
 "metadata": {
  "application/vnd.databricks.v1+notebook": {
   "computePreferences": null,
   "dashboards": [],
   "environmentMetadata": null,
   "language": "python",
   "notebookMetadata": {
    "pythonIndentUnit": 4
   },
   "notebookName": "Seed_notebook",
   "widgets": {}
  },
  "language_info": {
   "name": "python"
  }
 },
 "nbformat": 4,
 "nbformat_minor": 0
}
